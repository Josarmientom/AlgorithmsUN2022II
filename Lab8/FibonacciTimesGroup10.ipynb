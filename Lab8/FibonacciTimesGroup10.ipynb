{
  "nbformat": 4,
  "nbformat_minor": 0,
  "metadata": {
    "colab": {
      "provenance": [],
      "authorship_tag": "ABX9TyPKkPRUY/AcRUJps/CdOZ88",
      "include_colab_link": true
    },
    "kernelspec": {
      "name": "python3",
      "display_name": "Python 3"
    },
    "language_info": {
      "name": "python"
    }
  },
  "cells": [
    {
      "cell_type": "markdown",
      "metadata": {
        "id": "view-in-github",
        "colab_type": "text"
      },
      "source": [
        "<a href=\"https://colab.research.google.com/github/Josarmientom/AlgorithmsUN2022II/blob/main/Lab8/FibonacciTimesGroup10.ipynb\" target=\"_parent\"><img src=\"https://colab.research.google.com/assets/colab-badge.svg\" alt=\"Open In Colab\"/></a>"
      ]
    },
    {
      "cell_type": "code",
      "execution_count": 6,
      "metadata": {
        "id": "bnNYIvO6QL8_"
      },
      "outputs": [],
      "source": [
        "from timeit import default_timer\n",
        "import matplotlib.pyplot as plt\n",
        "import seaborn as sns"
      ]
    },
    {
      "cell_type": "code",
      "source": [
        "def fib_rec(n):\n",
        "    if n == 0:\n",
        "        return 0\n",
        "    if n == 1:\n",
        "        return 1\n",
        "    return fib_rec(n-1) + fib_rec(n-2)\n",
        "\n",
        "def fib_iter(n):\n",
        "    if n == 0 or n == 1:\n",
        "        return n\n",
        "\n",
        "    prev2 = 0\n",
        "    prev1 = 1\n",
        "    \n",
        "    for i in range(2, n+1):\n",
        "        fibn = prev1 + prev2\n",
        "        prev2 = prev1\n",
        "        prev1 = fibn\n",
        "    return fibn"
      ],
      "metadata": {
        "id": "xxuB_L-GM_aq"
      },
      "execution_count": 7,
      "outputs": []
    },
    {
      "cell_type": "code",
      "source": [
        "start = default_timer()\n",
        "n = 45\n",
        "time_rec = []\n",
        "time_iter = []\n",
        "for i in range(n + 1):\n",
        "  fib_rec(i)\n",
        "  end = default_timer()\n",
        "  time_rec.append(end - start)\n",
        "\n",
        "m = 1000 \n",
        "for i in range(m + 1):\n",
        "  fib_iter(i)\n",
        "  end = default_timer()\n",
        "  time_iter.append(end - start)"
      ],
      "metadata": {
        "id": "r-KNTjjONCXl"
      },
      "execution_count": 8,
      "outputs": []
    },
    {
      "cell_type": "code",
      "source": [
        "ax = sns.scatterplot(data= [time_rec, time_iter])\n",
        "plt.ylabel(\"Time\")\n",
        "plt.xlabel(\"Fibonnaci(n)\");\n",
        "plt.legend()"
      ],
      "metadata": {
        "colab": {
          "base_uri": "https://localhost:8080/",
          "height": 296
        },
        "id": "CyhioF0ANEte",
        "outputId": "3fc994da-1465-46d2-ac71-aebcbfe70a57"
      },
      "execution_count": 9,
      "outputs": [
        {
          "output_type": "execute_result",
          "data": {
            "text/plain": [
              "<matplotlib.legend.Legend at 0x7f6ed9233fd0>"
            ]
          },
          "metadata": {},
          "execution_count": 9
        },
        {
          "output_type": "display_data",
          "data": {
            "text/plain": [
              "<Figure size 432x288 with 1 Axes>"
            ],
            "image/png": "[encoded data removed]"
          },
          "metadata": {
            "needs_background": "light"
          }
        }
      ]
    },
    {
      "cell_type": "code",
      "source": [
        "ax = sns.relplot(data= [time_rec, time_iter], kind=\"line\")\n",
        "plt.ylabel(\"Time\")\n",
        "plt.xlabel(\"Fibonnaci(n)\");\n",
        "plt.legend()"
      ],
      "metadata": {
        "colab": {
          "base_uri": "https://localhost:8080/",
          "height": 386
        },
        "id": "S_MCN0-aNHd0",
        "outputId": "9641afc3-b5ad-47f3-e5c9-0189fe7f1833"
      },
      "execution_count": 10,
      "outputs": [
        {
          "output_type": "execute_result",
          "data": {
            "text/plain": [
              "<matplotlib.legend.Legend at 0x7f6ed8f04ad0>"
            ]
          },
          "metadata": {},
          "execution_count": 10
        },
        {
          "output_type": "display_data",
          "data": {
            "text/plain": [
              "<Figure size 402.375x360 with 1 Axes>"
            ],
            "image/png": "[encoded data removed]"
          },
          "metadata": {
            "needs_background": "light"
          }
        }
      ]
    }
  ]
}